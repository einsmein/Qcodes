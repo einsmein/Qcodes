{
 "cells": [
  {
   "cell_type": "markdown",
   "metadata": {},
   "source": [
    "# Dataset Benchmarking\n",
    "\n",
    "This notebook is a behind-the-scenes benchmarking notebook, mainly for use by developers. The recommended way for users to interact with the dataset is via the `Measurement` object and its associated context manager. See the corresponding notebook for a comprehensive toturial on how to use those."
   ]
  },
  {
   "cell_type": "code",
   "execution_count": 1,
   "metadata": {
    "execution": {
     "iopub.execute_input": "2025-08-28T09:54:15.511008Z",
     "iopub.status.busy": "2025-08-28T09:54:15.510753Z",
     "iopub.status.idle": "2025-08-28T09:54:16.194380Z",
     "shell.execute_reply": "2025-08-28T09:54:16.193662Z"
    }
   },
   "outputs": [],
   "source": [
    "%matplotlib inline\n",
    "from pathlib import Path\n",
    "\n",
    "import numpy as np\n",
    "\n",
    "import qcodes as qc\n",
    "from qcodes.dataset import (\n",
    "    ParamSpec,\n",
    "    initialise_or_create_database_at,\n",
    "    load_or_create_experiment,\n",
    "    new_data_set,\n",
    ")"
   ]
  },
  {
   "cell_type": "code",
   "execution_count": 2,
   "metadata": {
    "execution": {
     "iopub.execute_input": "2025-08-28T09:54:16.196625Z",
     "iopub.status.busy": "2025-08-28T09:54:16.196350Z",
     "iopub.status.idle": "2025-08-28T09:54:16.200808Z",
     "shell.execute_reply": "2025-08-28T09:54:16.200184Z"
    }
   },
   "outputs": [
    {
     "data": {
      "text/plain": [
       "'~/experiments.db'"
      ]
     },
     "execution_count": 2,
     "metadata": {},
     "output_type": "execute_result"
    }
   ],
   "source": [
    "qc.config.core.db_location"
   ]
  },
  {
   "cell_type": "code",
   "execution_count": 3,
   "metadata": {
    "execution": {
     "iopub.execute_input": "2025-08-28T09:54:16.232113Z",
     "iopub.status.busy": "2025-08-28T09:54:16.231918Z",
     "iopub.status.idle": "2025-08-28T09:54:16.259705Z",
     "shell.execute_reply": "2025-08-28T09:54:16.259225Z"
    }
   },
   "outputs": [],
   "source": [
    "initialise_or_create_database_at(\n",
    "    Path.cwd().parent / \"example_output\" / \"benchmarking.db\"\n",
    ")"
   ]
  },
  {
   "cell_type": "markdown",
   "metadata": {},
   "source": [
    "## Setup"
   ]
  },
  {
   "cell_type": "code",
   "execution_count": 4,
   "metadata": {
    "execution": {
     "iopub.execute_input": "2025-08-28T09:54:16.261464Z",
     "iopub.status.busy": "2025-08-28T09:54:16.261294Z",
     "iopub.status.idle": "2025-08-28T09:54:16.267413Z",
     "shell.execute_reply": "2025-08-28T09:54:16.266816Z"
    }
   },
   "outputs": [
    {
     "data": {
      "text/plain": [
       "benchmarking#the sample is a lie#1@/home/runner/work/Qcodes/Qcodes/docs/examples/example_output/benchmarking.db\n",
       "---------------------------------------------------------------------------------------------------------------"
      ]
     },
     "execution_count": 4,
     "metadata": {},
     "output_type": "execute_result"
    }
   ],
   "source": [
    "exp = load_or_create_experiment(\"benchmarking\", sample_name=\"the sample is a lie\")\n",
    "exp"
   ]
  },
  {
   "cell_type": "markdown",
   "metadata": {},
   "source": [
    "Now we can create a dataset. Note two things:\n",
    "\n",
    "    - if we don't specfiy a exp_id, but we have an experiment in the experiment container the dataset will go into that one.\n",
    "    - dataset can be created from the experiment object\n",
    "    "
   ]
  },
  {
   "cell_type": "code",
   "execution_count": 5,
   "metadata": {
    "execution": {
     "iopub.execute_input": "2025-08-28T09:54:16.269271Z",
     "iopub.status.busy": "2025-08-28T09:54:16.269116Z",
     "iopub.status.idle": "2025-08-28T09:54:16.276141Z",
     "shell.execute_reply": "2025-08-28T09:54:16.275644Z"
    }
   },
   "outputs": [
    {
     "data": {
      "text/plain": [
       "benchmarking#the sample is a lie#1@/home/runner/work/Qcodes/Qcodes/docs/examples/example_output/benchmarking.db\n",
       "---------------------------------------------------------------------------------------------------------------\n",
       "1-benchmark_data-1-None-0"
      ]
     },
     "execution_count": 5,
     "metadata": {},
     "output_type": "execute_result"
    }
   ],
   "source": [
    "dataSet = new_data_set(\"benchmark_data\", exp_id=exp.exp_id)\n",
    "exp"
   ]
  },
  {
   "cell_type": "markdown",
   "metadata": {},
   "source": [
    "In this benchmark we will assueme that we are doing a 2D loop and investigate the performance implications of writing to the dataset"
   ]
  },
  {
   "cell_type": "code",
   "execution_count": 6,
   "metadata": {
    "execution": {
     "iopub.execute_input": "2025-08-28T09:54:16.277783Z",
     "iopub.status.busy": "2025-08-28T09:54:16.277589Z",
     "iopub.status.idle": "2025-08-28T09:54:16.280191Z",
     "shell.execute_reply": "2025-08-28T09:54:16.279711Z"
    }
   },
   "outputs": [],
   "source": [
    "x_shape = 100\n",
    "y_shape = 100"
   ]
  },
  {
   "cell_type": "markdown",
   "metadata": {},
   "source": [
    "## Baseline: Generate data"
   ]
  },
  {
   "cell_type": "code",
   "execution_count": 7,
   "metadata": {
    "execution": {
     "iopub.execute_input": "2025-08-28T09:54:16.281708Z",
     "iopub.status.busy": "2025-08-28T09:54:16.281523Z",
     "iopub.status.idle": "2025-08-28T09:54:16.296231Z",
     "shell.execute_reply": "2025-08-28T09:54:16.295765Z"
    }
   },
   "outputs": [
    {
     "name": "stdout",
     "output_type": "stream",
     "text": [
      "CPU times: user 10.4 ms, sys: 931 μs, total: 11.3 ms\n",
      "Wall time: 11.1 ms\n"
     ]
    }
   ],
   "source": [
    "%%time\n",
    "for x in range(x_shape):\n",
    "    for y in range(y_shape):\n",
    "        z = np.random.random_sample(1)"
   ]
  },
  {
   "cell_type": "markdown",
   "metadata": {},
   "source": [
    "and store in memory"
   ]
  },
  {
   "cell_type": "code",
   "execution_count": 8,
   "metadata": {
    "execution": {
     "iopub.execute_input": "2025-08-28T09:54:16.297864Z",
     "iopub.status.busy": "2025-08-28T09:54:16.297577Z",
     "iopub.status.idle": "2025-08-28T09:54:16.300793Z",
     "shell.execute_reply": "2025-08-28T09:54:16.300183Z"
    }
   },
   "outputs": [],
   "source": [
    "x_data = np.zeros((x_shape, y_shape))\n",
    "y_data = np.zeros((x_shape, y_shape))\n",
    "z_data = np.zeros((x_shape, y_shape))"
   ]
  },
  {
   "cell_type": "code",
   "execution_count": 9,
   "metadata": {
    "execution": {
     "iopub.execute_input": "2025-08-28T09:54:16.302399Z",
     "iopub.status.busy": "2025-08-28T09:54:16.302243Z",
     "iopub.status.idle": "2025-08-28T09:54:16.312873Z",
     "shell.execute_reply": "2025-08-28T09:54:16.312383Z"
    }
   },
   "outputs": [
    {
     "name": "stdout",
     "output_type": "stream",
     "text": [
      "CPU times: user 7.61 ms, sys: 0 ns, total: 7.61 ms\n",
      "Wall time: 7.49 ms\n"
     ]
    }
   ],
   "source": [
    "%%time\n",
    "for x in range(x_shape):\n",
    "    for y in range(y_shape):\n",
    "        x_data[x, y] = x\n",
    "        y_data[x, y] = y\n",
    "        z_data[x, y] = np.random.random_sample()"
   ]
  },
  {
   "cell_type": "markdown",
   "metadata": {},
   "source": [
    "## Add to dataset inside double loop"
   ]
  },
  {
   "cell_type": "code",
   "execution_count": 10,
   "metadata": {
    "execution": {
     "iopub.execute_input": "2025-08-28T09:54:16.314442Z",
     "iopub.status.busy": "2025-08-28T09:54:16.314292Z",
     "iopub.status.idle": "2025-08-28T09:54:16.323235Z",
     "shell.execute_reply": "2025-08-28T09:54:16.322801Z"
    }
   },
   "outputs": [],
   "source": [
    "double_dataset = new_data_set(\n",
    "    \"doubledata\",\n",
    "    exp_id=exp.exp_id,\n",
    "    specs=[\n",
    "        ParamSpec(\"x\", \"numeric\"),\n",
    "        ParamSpec(\"y\", \"numeric\"),\n",
    "        ParamSpec(\"z\", \"numeric\"),\n",
    "    ],\n",
    ")\n",
    "double_dataset.mark_started()"
   ]
  },
  {
   "cell_type": "markdown",
   "metadata": {},
   "source": [
    "Note that this is so slow that we are only doing a 10th of the computation"
   ]
  },
  {
   "cell_type": "code",
   "execution_count": 11,
   "metadata": {
    "execution": {
     "iopub.execute_input": "2025-08-28T09:54:16.324746Z",
     "iopub.status.busy": "2025-08-28T09:54:16.324572Z",
     "iopub.status.idle": "2025-08-28T09:54:16.927929Z",
     "shell.execute_reply": "2025-08-28T09:54:16.927276Z"
    }
   },
   "outputs": [
    {
     "name": "stdout",
     "output_type": "stream",
     "text": [
      "CPU times: user 160 ms, sys: 60.2 ms, total: 221 ms\n",
      "Wall time: 600 ms\n"
     ]
    }
   ],
   "source": [
    "%%time\n",
    "for x in range(x_shape // 10):\n",
    "    for y in range(y_shape):\n",
    "        double_dataset.add_results([{\"x\": x, \"y\": y, \"z\": np.random.random_sample()}])"
   ]
  },
  {
   "cell_type": "markdown",
   "metadata": {},
   "source": [
    "## Add the data in outer loop and store as np array"
   ]
  },
  {
   "cell_type": "code",
   "execution_count": 12,
   "metadata": {
    "execution": {
     "iopub.execute_input": "2025-08-28T09:54:16.930115Z",
     "iopub.status.busy": "2025-08-28T09:54:16.929939Z",
     "iopub.status.idle": "2025-08-28T09:54:16.937983Z",
     "shell.execute_reply": "2025-08-28T09:54:16.937373Z"
    }
   },
   "outputs": [],
   "source": [
    "single_dataset = new_data_set(\n",
    "    \"singledata\",\n",
    "    exp_id=exp.exp_id,\n",
    "    specs=[ParamSpec(\"x\", \"array\"), ParamSpec(\"y\", \"array\"), ParamSpec(\"z\", \"array\")],\n",
    ")\n",
    "single_dataset.mark_started()\n",
    "x_data = np.zeros(y_shape)\n",
    "y_data = np.zeros(y_shape)\n",
    "z_data = np.zeros(y_shape)"
   ]
  },
  {
   "cell_type": "code",
   "execution_count": 13,
   "metadata": {
    "execution": {
     "iopub.execute_input": "2025-08-28T09:54:16.939831Z",
     "iopub.status.busy": "2025-08-28T09:54:16.939581Z",
     "iopub.status.idle": "2025-08-28T09:54:16.996255Z",
     "shell.execute_reply": "2025-08-28T09:54:16.995557Z"
    }
   },
   "outputs": [
    {
     "name": "stdout",
     "output_type": "stream",
     "text": [
      "CPU times: user 35.8 ms, sys: 4.43 ms, total: 40.3 ms\n",
      "Wall time: 52 ms\n"
     ]
    },
    {
     "name": "stderr",
     "output_type": "stream",
     "text": [
      "<timed exec>:5: DeprecationWarning: Conversion of an array with ndim > 0 to a scalar is deprecated, and will error in future. Ensure you extract a single element from your array before performing this operation. (Deprecated NumPy 1.25.)\n"
     ]
    }
   ],
   "source": [
    "%%time\n",
    "for x in range(x_shape):\n",
    "    for y in range(y_shape):\n",
    "        x_data[y] = x\n",
    "        y_data[y] = y\n",
    "        z_data[y] = np.random.random_sample(1)\n",
    "    single_dataset.add_results([{\"x\": x_data, \"y\": y_data, \"z\": z_data}])"
   ]
  },
  {
   "cell_type": "markdown",
   "metadata": {},
   "source": [
    "## Save once after loop"
   ]
  },
  {
   "cell_type": "code",
   "execution_count": 14,
   "metadata": {
    "execution": {
     "iopub.execute_input": "2025-08-28T09:54:16.998032Z",
     "iopub.status.busy": "2025-08-28T09:54:16.997871Z",
     "iopub.status.idle": "2025-08-28T09:54:17.006649Z",
     "shell.execute_reply": "2025-08-28T09:54:17.006028Z"
    }
   },
   "outputs": [],
   "source": [
    "zero_dataset = new_data_set(\n",
    "    \"zerodata\",\n",
    "    exp_id=exp.exp_id,\n",
    "    specs=[ParamSpec(\"x\", \"array\"), ParamSpec(\"y\", \"array\"), ParamSpec(\"z\", \"array\")],\n",
    ")\n",
    "zero_dataset.mark_started()\n",
    "x_data = np.zeros((x_shape, y_shape))\n",
    "y_data = np.zeros((x_shape, y_shape))\n",
    "z_data = np.zeros((x_shape, y_shape))"
   ]
  },
  {
   "cell_type": "code",
   "execution_count": 15,
   "metadata": {
    "execution": {
     "iopub.execute_input": "2025-08-28T09:54:17.008464Z",
     "iopub.status.busy": "2025-08-28T09:54:17.008239Z",
     "iopub.status.idle": "2025-08-28T09:54:17.039902Z",
     "shell.execute_reply": "2025-08-28T09:54:17.039298Z"
    }
   },
   "outputs": [
    {
     "name": "stdout",
     "output_type": "stream",
     "text": [
      "CPU times: user 25.8 ms, sys: 1.91 ms, total: 27.7 ms\n",
      "Wall time: 27.2 ms\n"
     ]
    },
    {
     "name": "stderr",
     "output_type": "stream",
     "text": [
      "<timed exec>:5: DeprecationWarning: Conversion of an array with ndim > 0 to a scalar is deprecated, and will error in future. Ensure you extract a single element from your array before performing this operation. (Deprecated NumPy 1.25.)\n"
     ]
    }
   ],
   "source": [
    "%%time\n",
    "for x in range(x_shape):\n",
    "    for y in range(y_shape):\n",
    "        x_data[x, y] = x\n",
    "        y_data[x, y] = y\n",
    "        z_data[x, y] = np.random.random_sample(1)\n",
    "zero_dataset.add_results([{\"x\": x_data, \"y\": y_data, \"z\": z_data}])"
   ]
  },
  {
   "cell_type": "markdown",
   "metadata": {},
   "source": [
    "## Array parameter"
   ]
  },
  {
   "cell_type": "code",
   "execution_count": 16,
   "metadata": {
    "execution": {
     "iopub.execute_input": "2025-08-28T09:54:17.041724Z",
     "iopub.status.busy": "2025-08-28T09:54:17.041470Z",
     "iopub.status.idle": "2025-08-28T09:54:17.050420Z",
     "shell.execute_reply": "2025-08-28T09:54:17.049861Z"
    }
   },
   "outputs": [],
   "source": [
    "array1D_dataset = new_data_set(\n",
    "    \"array1Ddata\",\n",
    "    exp_id=exp.exp_id,\n",
    "    specs=[ParamSpec(\"x\", \"array\"), ParamSpec(\"y\", \"array\"), ParamSpec(\"z\", \"array\")],\n",
    ")\n",
    "array1D_dataset.mark_started()\n",
    "y_setpoints = np.arange(y_shape)"
   ]
  },
  {
   "cell_type": "code",
   "execution_count": 17,
   "metadata": {
    "execution": {
     "iopub.execute_input": "2025-08-28T09:54:17.052196Z",
     "iopub.status.busy": "2025-08-28T09:54:17.052030Z",
     "iopub.status.idle": "2025-08-28T09:54:19.877408Z",
     "shell.execute_reply": "2025-08-28T09:54:19.876770Z"
    }
   },
   "outputs": [
    {
     "name": "stdout",
     "output_type": "stream",
     "text": [
      "34.4 ms ± 864 μs per loop (mean ± std. dev. of 7 runs, 10 loops each)\n"
     ]
    }
   ],
   "source": [
    "%%timeit\n",
    "for x in range(x_shape):\n",
    "    x_data[x, :] = x\n",
    "    array1D_dataset.add_results(\n",
    "        [{\"x\": x_data[x, :], \"y\": y_setpoints, \"z\": np.random.random_sample(y_shape)}]\n",
    "    )"
   ]
  },
  {
   "cell_type": "code",
   "execution_count": 18,
   "metadata": {
    "execution": {
     "iopub.execute_input": "2025-08-28T09:54:19.879523Z",
     "iopub.status.busy": "2025-08-28T09:54:19.879347Z",
     "iopub.status.idle": "2025-08-28T09:54:19.882634Z",
     "shell.execute_reply": "2025-08-28T09:54:19.882067Z"
    }
   },
   "outputs": [],
   "source": [
    "x_data = np.zeros((x_shape, y_shape))\n",
    "y_data = np.zeros((x_shape, y_shape))\n",
    "z_data = np.zeros((x_shape, y_shape))\n",
    "y_setpoints = np.arange(y_shape)"
   ]
  },
  {
   "cell_type": "code",
   "execution_count": 19,
   "metadata": {
    "execution": {
     "iopub.execute_input": "2025-08-28T09:54:19.884348Z",
     "iopub.status.busy": "2025-08-28T09:54:19.884176Z",
     "iopub.status.idle": "2025-08-28T09:54:19.892234Z",
     "shell.execute_reply": "2025-08-28T09:54:19.891621Z"
    }
   },
   "outputs": [],
   "source": [
    "array0D_dataset = new_data_set(\n",
    "    \"array0Ddata\",\n",
    "    exp_id=exp.exp_id,\n",
    "    specs=[ParamSpec(\"x\", \"array\"), ParamSpec(\"y\", \"array\"), ParamSpec(\"z\", \"array\")],\n",
    ")\n",
    "array0D_dataset.mark_started()"
   ]
  },
  {
   "cell_type": "code",
   "execution_count": 20,
   "metadata": {
    "execution": {
     "iopub.execute_input": "2025-08-28T09:54:19.894024Z",
     "iopub.status.busy": "2025-08-28T09:54:19.893858Z",
     "iopub.status.idle": "2025-08-28T09:54:32.762474Z",
     "shell.execute_reply": "2025-08-28T09:54:32.761957Z"
    }
   },
   "outputs": [
    {
     "name": "stdout",
     "output_type": "stream",
     "text": [
      "1.58 ms ± 42.3 μs per loop (mean ± std. dev. of 7 runs, 1,000 loops each)\n"
     ]
    }
   ],
   "source": [
    "%%timeit\n",
    "for x in range(x_shape):\n",
    "    x_data[x, :] = x\n",
    "    y_data[x, :] = y_setpoints\n",
    "    z_data[x, :] = np.random.random_sample(y_shape)\n",
    "array0D_dataset.add_results([{\"x\": x_data, \"y\": y_data, \"z\": z_data}])"
   ]
  },
  {
   "cell_type": "markdown",
   "metadata": {},
   "source": [
    "## Insert many"
   ]
  },
  {
   "cell_type": "code",
   "execution_count": 21,
   "metadata": {
    "execution": {
     "iopub.execute_input": "2025-08-28T09:54:32.764203Z",
     "iopub.status.busy": "2025-08-28T09:54:32.764040Z",
     "iopub.status.idle": "2025-08-28T09:54:32.772891Z",
     "shell.execute_reply": "2025-08-28T09:54:32.772404Z"
    }
   },
   "outputs": [],
   "source": [
    "data = []\n",
    "for i in range(100):\n",
    "    for j in range(100):\n",
    "        data.append({\"x\": i, \"y\": j, \"z\": np.random.random_sample()})"
   ]
  },
  {
   "cell_type": "code",
   "execution_count": 22,
   "metadata": {
    "execution": {
     "iopub.execute_input": "2025-08-28T09:54:32.774347Z",
     "iopub.status.busy": "2025-08-28T09:54:32.774190Z",
     "iopub.status.idle": "2025-08-28T09:54:32.781356Z",
     "shell.execute_reply": "2025-08-28T09:54:32.780931Z"
    }
   },
   "outputs": [],
   "source": [
    "many_Data = new_data_set(\n",
    "    \"many_data\",\n",
    "    exp_id=exp.exp_id,\n",
    "    specs=[\n",
    "        ParamSpec(\"x\", \"numeric\"),\n",
    "        ParamSpec(\"y\", \"numeric\"),\n",
    "        ParamSpec(\"z\", \"numeric\"),\n",
    "    ],\n",
    ")\n",
    "many_Data.mark_started()"
   ]
  },
  {
   "cell_type": "code",
   "execution_count": 23,
   "metadata": {
    "execution": {
     "iopub.execute_input": "2025-08-28T09:54:32.782840Z",
     "iopub.status.busy": "2025-08-28T09:54:32.782649Z",
     "iopub.status.idle": "2025-08-28T09:54:47.101843Z",
     "shell.execute_reply": "2025-08-28T09:54:47.101215Z"
    }
   },
   "outputs": [
    {
     "name": "stdout",
     "output_type": "stream",
     "text": [
      "17.7 ms ± 91.6 μs per loop (mean ± std. dev. of 7 runs, 100 loops each)\n"
     ]
    }
   ],
   "source": [
    "%%timeit\n",
    "many_Data.add_results(data)"
   ]
  }
 ],
 "metadata": {
  "kernelspec": {
   "display_name": ".venv",
   "language": "python",
   "name": "python3"
  },
  "language_info": {
   "codemirror_mode": {
    "name": "ipython",
    "version": 3
   },
   "file_extension": ".py",
   "mimetype": "text/x-python",
   "name": "python",
   "nbconvert_exporter": "python",
   "pygments_lexer": "ipython3",
   "version": "3.11.13"
  },
  "nbsphinx": {
   "timeout": 600
  }
 },
 "nbformat": 4,
 "nbformat_minor": 2
}
