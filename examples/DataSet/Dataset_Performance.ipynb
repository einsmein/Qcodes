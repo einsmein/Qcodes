{
 "cells": [
  {
   "cell_type": "markdown",
   "metadata": {},
   "source": [
    "# DataSet Performance\n",
    "\n",
    "This notebook shows the trade-off between inserting data into a database row-by-row and as binary blobs. Inserting the data row-by-row means that we have direct access to all the data and may perform queries directly on the values of the data. On the other hand, as we shall see, this is much slower than inserting the data directly as binary blobs."
   ]
  },
  {
   "cell_type": "markdown",
   "metadata": {},
   "source": [
    "First, we choose a new location for the database to ensure that we don't add a bunch of benchmarking data to the default one."
   ]
  },
  {
   "cell_type": "code",
   "execution_count": 1,
   "metadata": {
    "execution": {
     "iopub.execute_input": "2025-08-28T09:55:33.878155Z",
     "iopub.status.busy": "2025-08-28T09:55:33.877960Z",
     "iopub.status.idle": "2025-08-28T09:55:34.262577Z",
     "shell.execute_reply": "2025-08-28T09:55:34.262053Z"
    }
   },
   "outputs": [],
   "source": [
    "from pathlib import Path\n",
    "\n",
    "import qcodes as qc\n",
    "\n",
    "qc.config[\"core\"][\"db_location\"] = str(\n",
    "    Path.cwd().parent / \"example_output\" / \"testing.db\"\n",
    ")"
   ]
  },
  {
   "cell_type": "code",
   "execution_count": 2,
   "metadata": {
    "execution": {
     "iopub.execute_input": "2025-08-28T09:55:34.264622Z",
     "iopub.status.busy": "2025-08-28T09:55:34.264350Z",
     "iopub.status.idle": "2025-08-28T09:55:34.575323Z",
     "shell.execute_reply": "2025-08-28T09:55:34.574636Z"
    }
   },
   "outputs": [],
   "source": [
    "%matplotlib inline\n",
    "import time\n",
    "from pathlib import Path\n",
    "\n",
    "import matplotlib.pyplot as plt\n",
    "import numpy as np\n",
    "\n",
    "import qcodes as qc\n",
    "from qcodes.dataset import (\n",
    "    Measurement,\n",
    "    initialise_or_create_database_at,\n",
    "    load_or_create_experiment,\n",
    ")\n",
    "from qcodes.parameters import ManualParameter"
   ]
  },
  {
   "cell_type": "code",
   "execution_count": 3,
   "metadata": {
    "execution": {
     "iopub.execute_input": "2025-08-28T09:55:34.577346Z",
     "iopub.status.busy": "2025-08-28T09:55:34.577089Z",
     "iopub.status.idle": "2025-08-28T09:55:34.608655Z",
     "shell.execute_reply": "2025-08-28T09:55:34.608167Z"
    }
   },
   "outputs": [],
   "source": [
    "initialise_or_create_database_at(\n",
    "    Path.cwd().parent / \"example_output\" / \"dataset_performance.db\"\n",
    ")\n",
    "exp = load_or_create_experiment(experiment_name=\"tutorial_exp\", sample_name=\"no sample\")"
   ]
  },
  {
   "cell_type": "markdown",
   "metadata": {},
   "source": [
    "Here, we define a simple function to benchmark the time it takes to insert n points with either numeric or array data type.\n",
    "We will compare both the time used to call ``add_result`` and the time used for the full measurement."
   ]
  },
  {
   "cell_type": "code",
   "execution_count": 4,
   "metadata": {
    "execution": {
     "iopub.execute_input": "2025-08-28T09:55:34.610406Z",
     "iopub.status.busy": "2025-08-28T09:55:34.610239Z",
     "iopub.status.idle": "2025-08-28T09:55:34.615594Z",
     "shell.execute_reply": "2025-08-28T09:55:34.615128Z"
    }
   },
   "outputs": [],
   "source": [
    "def insert_data(paramtype, npoints, nreps=1):\n",
    "    meas = Measurement(exp=exp)\n",
    "\n",
    "    x1 = ManualParameter(\"x1\")\n",
    "    x2 = ManualParameter(\"x2\")\n",
    "    x3 = ManualParameter(\"x3\")\n",
    "    y1 = ManualParameter(\"y1\")\n",
    "    y2 = ManualParameter(\"y2\")\n",
    "\n",
    "    meas.register_parameter(x1, paramtype=paramtype)\n",
    "    meas.register_parameter(x2, paramtype=paramtype)\n",
    "    meas.register_parameter(x3, paramtype=paramtype)\n",
    "    meas.register_parameter(y1, setpoints=[x1, x2, x3], paramtype=paramtype)\n",
    "    meas.register_parameter(y2, setpoints=[x1, x2, x3], paramtype=paramtype)\n",
    "    start = time.perf_counter()\n",
    "    with meas.run() as datasaver:\n",
    "        start_adding = time.perf_counter()\n",
    "        for i in range(nreps):\n",
    "            datasaver.add_result(\n",
    "                (x1, np.random.rand(npoints)),\n",
    "                (x2, np.random.rand(npoints)),\n",
    "                (x3, np.random.rand(npoints)),\n",
    "                (y1, np.random.rand(npoints)),\n",
    "                (y2, np.random.rand(npoints)),\n",
    "            )\n",
    "        stop_adding = time.perf_counter()\n",
    "        run_id = datasaver.run_id\n",
    "    stop = time.perf_counter()\n",
    "    tot_time = stop - start\n",
    "    add_time = stop_adding - start_adding\n",
    "    return tot_time, add_time, run_id"
   ]
  },
  {
   "cell_type": "markdown",
   "metadata": {},
   "source": [
    "## Comparison between numeric/array data and binary blob"
   ]
  },
  {
   "cell_type": "markdown",
   "metadata": {},
   "source": [
    "### Case1: Short experiment time"
   ]
  },
  {
   "cell_type": "code",
   "execution_count": 5,
   "metadata": {
    "execution": {
     "iopub.execute_input": "2025-08-28T09:55:34.617205Z",
     "iopub.status.busy": "2025-08-28T09:55:34.617042Z",
     "iopub.status.idle": "2025-08-28T09:55:35.002485Z",
     "shell.execute_reply": "2025-08-28T09:55:35.001835Z"
    }
   },
   "outputs": [
    {
     "name": "stdout",
     "output_type": "stream",
     "text": [
      "Starting experimental run with id: 1. \n",
      "Starting experimental run with id: 2. \n",
      "Starting experimental run with id: 3. \n",
      "Starting experimental run with id: 4. \n",
      "Starting experimental run with id: 5. \n",
      "Starting experimental run with id: 6. \n",
      "Starting experimental run with id: 7. \n",
      "Starting experimental run with id: 8. \n",
      "Starting experimental run with id: 9. \n",
      "Starting experimental run with id: 10. \n",
      "Starting experimental run with id: 11. \n"
     ]
    },
    {
     "name": "stdout",
     "output_type": "stream",
     "text": [
      "Starting experimental run with id: 12. \n",
      "Starting experimental run with id: 13. \n",
      "Starting experimental run with id: 14. \n"
     ]
    }
   ],
   "source": [
    "sizes = [1, 500, 1000, 2000, 3000, 4000, 5000]\n",
    "t_numeric = []\n",
    "t_numeric_add = []\n",
    "t_array = []\n",
    "t_array_add = []\n",
    "for size in sizes:\n",
    "    tn, tna, run_id_n = insert_data(\"numeric\", size)\n",
    "    t_numeric.append(tn)\n",
    "    t_numeric_add.append(tna)\n",
    "\n",
    "    ta, taa, run_id_a = insert_data(\"array\", size)\n",
    "    t_array.append(ta)\n",
    "    t_array_add.append(taa)"
   ]
  },
  {
   "cell_type": "code",
   "execution_count": 6,
   "metadata": {
    "execution": {
     "iopub.execute_input": "2025-08-28T09:55:35.004251Z",
     "iopub.status.busy": "2025-08-28T09:55:35.003989Z",
     "iopub.status.idle": "2025-08-28T09:55:35.149980Z",
     "shell.execute_reply": "2025-08-28T09:55:35.149338Z"
    }
   },
   "outputs": [
    {
     "data": {
      "image/png": "[encoded data removed]",
      "text/plain": [
       "<Figure size 640x480 with 1 Axes>"
      ]
     },
     "metadata": {},
     "output_type": "display_data"
    }
   ],
   "source": [
    "fig, ax = plt.subplots(1, 1)\n",
    "ax.plot(sizes, t_numeric, \"o-\", label=\"Inserting row-by-row\")\n",
    "ax.plot(sizes, t_numeric_add, \"o-\", label=\"Inserting row-by-row: add_result only\")\n",
    "ax.plot(sizes, t_array, \"d-\", label=\"Inserting as binary blob\")\n",
    "ax.plot(sizes, t_array_add, \"d-\", label=\"Inserting as binary blob: add_result only\")\n",
    "ax.legend()\n",
    "ax.set_xlabel(\"Array length\")\n",
    "ax.set_ylabel(\"Time (s)\")\n",
    "fig.tight_layout()"
   ]
  },
  {
   "cell_type": "markdown",
   "metadata": {},
   "source": [
    "As shown in the latter figure, the time to setup and and close the experiment is approximately 0.4 sec. In case of small array sizes, the difference between inserting values of data as arrays and inserting them row-by-row is relatively unimportant. At larger array sizes, i.e. above 10000 points, the cost of writing data as individual datapoints starts to become important.\n"
   ]
  },
  {
   "cell_type": "markdown",
   "metadata": {},
   "source": [
    "### Case2: Long experiment time "
   ]
  },
  {
   "cell_type": "code",
   "execution_count": 7,
   "metadata": {
    "execution": {
     "iopub.execute_input": "2025-08-28T09:55:35.151703Z",
     "iopub.status.busy": "2025-08-28T09:55:35.151508Z",
     "iopub.status.idle": "2025-08-28T09:55:54.157304Z",
     "shell.execute_reply": "2025-08-28T09:55:54.156804Z"
    }
   },
   "outputs": [
    {
     "name": "stdout",
     "output_type": "stream",
     "text": [
      "Starting experimental run with id: 15. \n",
      "Starting experimental run with id: 16. \n",
      "Starting experimental run with id: 17. \n"
     ]
    },
    {
     "name": "stdout",
     "output_type": "stream",
     "text": [
      "Starting experimental run with id: 18. \n",
      "Starting experimental run with id: 19. \n"
     ]
    },
    {
     "name": "stdout",
     "output_type": "stream",
     "text": [
      "Starting experimental run with id: 20. \n",
      "Starting experimental run with id: 21. \n"
     ]
    },
    {
     "name": "stdout",
     "output_type": "stream",
     "text": [
      "Starting experimental run with id: 22. \n",
      "Starting experimental run with id: 23. \n"
     ]
    },
    {
     "name": "stdout",
     "output_type": "stream",
     "text": [
      "Starting experimental run with id: 24. \n"
     ]
    },
    {
     "name": "stdout",
     "output_type": "stream",
     "text": [
      "Starting experimental run with id: 25. \n"
     ]
    },
    {
     "name": "stdout",
     "output_type": "stream",
     "text": [
      "Starting experimental run with id: 26. \n"
     ]
    },
    {
     "name": "stdout",
     "output_type": "stream",
     "text": [
      "Starting experimental run with id: 27. \n"
     ]
    },
    {
     "name": "stdout",
     "output_type": "stream",
     "text": [
      "Starting experimental run with id: 28. \n"
     ]
    }
   ],
   "source": [
    "sizes = [1, 500, 1000, 2000, 3000, 4000, 5000]\n",
    "nreps = 100\n",
    "t_numeric = []\n",
    "t_numeric_add = []\n",
    "t_numeric_run_ids = []\n",
    "t_array = []\n",
    "t_array_add = []\n",
    "t_array_run_ids = []\n",
    "for size in sizes:\n",
    "    tn, tna, run_id_n = insert_data(\"numeric\", size, nreps=nreps)\n",
    "    t_numeric.append(tn)\n",
    "    t_numeric_add.append(tna)\n",
    "    t_numeric_run_ids.append(run_id_n)\n",
    "\n",
    "    ta, taa, run_id_a = insert_data(\"array\", size, nreps=nreps)\n",
    "    t_array.append(ta)\n",
    "    t_array_add.append(taa)\n",
    "    t_array_run_ids.append(run_id_a)"
   ]
  },
  {
   "cell_type": "code",
   "execution_count": 8,
   "metadata": {
    "execution": {
     "iopub.execute_input": "2025-08-28T09:55:54.159207Z",
     "iopub.status.busy": "2025-08-28T09:55:54.159020Z",
     "iopub.status.idle": "2025-08-28T09:55:54.299125Z",
     "shell.execute_reply": "2025-08-28T09:55:54.298514Z"
    },
    "scrolled": true
   },
   "outputs": [
    {
     "data": {
      "image/png": "[encoded data removed]",
      "text/plain": [
       "<Figure size 640x480 with 1 Axes>"
      ]
     },
     "metadata": {},
     "output_type": "display_data"
    }
   ],
   "source": [
    "fig, ax = plt.subplots(1, 1)\n",
    "ax.plot(sizes, t_numeric, \"o-\", label=\"Inserting row-by-row\")\n",
    "ax.plot(sizes, t_numeric_add, \"o-\", label=\"Inserting row-by-row: add_result only\")\n",
    "ax.plot(sizes, t_array, \"d-\", label=\"Inserting as binary blob\")\n",
    "ax.plot(sizes, t_array_add, \"d-\", label=\"Inserting as binary blob: add_result only\")\n",
    "ax.legend()\n",
    "ax.set_xlabel(\"Array length\")\n",
    "ax.set_ylabel(\"Time (s)\")\n",
    "fig.tight_layout()"
   ]
  },
  {
   "cell_type": "markdown",
   "metadata": {},
   "source": [
    "However, as we increase the length of the experiment, as seen here by repeating the insertion 100 times, we see a big difference between inserting values of the data row-by-row and inserting it as a binary blob."
   ]
  },
  {
   "cell_type": "markdown",
   "metadata": {},
   "source": [
    "## Loading the data "
   ]
  },
  {
   "cell_type": "code",
   "execution_count": 9,
   "metadata": {
    "execution": {
     "iopub.execute_input": "2025-08-28T09:55:54.300891Z",
     "iopub.status.busy": "2025-08-28T09:55:54.300699Z",
     "iopub.status.idle": "2025-08-28T09:55:54.303504Z",
     "shell.execute_reply": "2025-08-28T09:55:54.303014Z"
    }
   },
   "outputs": [],
   "source": [
    "from qcodes.dataset import load_by_id"
   ]
  },
  {
   "cell_type": "markdown",
   "metadata": {},
   "source": [
    "As usual you can load the data by using the ``load_by_id`` function but you will notice that the different storage methods\n",
    "are reflected in shape of the data as it is retrieved. "
   ]
  },
  {
   "cell_type": "code",
   "execution_count": 10,
   "metadata": {
    "execution": {
     "iopub.execute_input": "2025-08-28T09:55:54.305022Z",
     "iopub.status.busy": "2025-08-28T09:55:54.304850Z",
     "iopub.status.idle": "2025-08-28T09:55:54.307607Z",
     "shell.execute_reply": "2025-08-28T09:55:54.307003Z"
    }
   },
   "outputs": [],
   "source": [
    "run_id_n = t_numeric_run_ids[0]\n",
    "run_id_a = t_array_run_ids[0]"
   ]
  },
  {
   "cell_type": "code",
   "execution_count": 11,
   "metadata": {
    "execution": {
     "iopub.execute_input": "2025-08-28T09:55:54.309261Z",
     "iopub.status.busy": "2025-08-28T09:55:54.309090Z",
     "iopub.status.idle": "2025-08-28T09:55:54.316570Z",
     "shell.execute_reply": "2025-08-28T09:55:54.316101Z"
    },
    "scrolled": true
   },
   "outputs": [
    {
     "data": {
      "text/plain": [
       "{'x1': {'x1': array([0.2147468 , 0.2147468 , 0.17221989, 0.17221989, 0.85221889,\n",
       "         0.85221889, 0.97876642, 0.97876642, 0.21305413, 0.21305413,\n",
       "         0.27472218, 0.27472218, 0.12847017, 0.12847017, 0.49362732,\n",
       "         0.49362732, 0.36443859, 0.36443859, 0.69224969, 0.69224969,\n",
       "         0.78889915, 0.78889915, 0.53209243, 0.53209243, 0.54216951,\n",
       "         0.54216951, 0.52804067, 0.52804067, 0.38484969, 0.38484969,\n",
       "         0.83564637, 0.83564637, 0.16719   , 0.16719   , 0.0403268 ,\n",
       "         0.0403268 , 0.74715296, 0.74715296, 0.3662675 , 0.3662675 ,\n",
       "         0.07078422, 0.07078422, 0.63135814, 0.63135814, 0.80130742,\n",
       "         0.80130742, 0.20268026, 0.20268026, 0.88029541, 0.88029541,\n",
       "         0.85079221, 0.85079221, 0.95309621, 0.95309621, 0.1587673 ,\n",
       "         0.1587673 , 0.11261555, 0.11261555, 0.66666635, 0.66666635,\n",
       "         0.1493947 , 0.1493947 , 0.12015674, 0.12015674, 0.43208847,\n",
       "         0.43208847, 0.04132191, 0.04132191, 0.73546658, 0.73546658,\n",
       "         0.16343863, 0.16343863, 0.55912641, 0.55912641, 0.49674438,\n",
       "         0.49674438, 0.75887379, 0.75887379, 0.63369534, 0.63369534,\n",
       "         0.1678456 , 0.1678456 , 0.12486451, 0.12486451, 0.57635094,\n",
       "         0.57635094, 0.61738609, 0.61738609, 0.39004319, 0.39004319,\n",
       "         0.63890698, 0.63890698, 0.8338681 , 0.8338681 , 0.05195767,\n",
       "         0.05195767, 0.8866978 , 0.8866978 , 0.76076927, 0.76076927,\n",
       "         0.06141058, 0.06141058, 0.80340378, 0.80340378, 0.78626433,\n",
       "         0.78626433, 0.41555117, 0.41555117, 0.58247499, 0.58247499,\n",
       "         0.81169325, 0.81169325, 0.16305834, 0.16305834, 0.76225384,\n",
       "         0.76225384, 0.04162127, 0.04162127, 0.44286818, 0.44286818,\n",
       "         0.27028051, 0.27028051, 0.60972711, 0.60972711, 0.69208564,\n",
       "         0.69208564, 0.61100947, 0.61100947, 0.24391433, 0.24391433,\n",
       "         0.451324  , 0.451324  , 0.1921695 , 0.1921695 , 0.45498959,\n",
       "         0.45498959, 0.23964607, 0.23964607, 0.13111383, 0.13111383,\n",
       "         0.35245809, 0.35245809, 0.90480956, 0.90480956, 0.387753  ,\n",
       "         0.387753  , 0.35175655, 0.35175655, 0.86169852, 0.86169852,\n",
       "         0.40712965, 0.40712965, 0.29387228, 0.29387228, 0.24758814,\n",
       "         0.24758814, 0.22869755, 0.22869755, 0.07391187, 0.07391187,\n",
       "         0.90841779, 0.90841779, 0.05957312, 0.05957312, 0.3536318 ,\n",
       "         0.3536318 , 0.17871099, 0.17871099, 0.16710718, 0.16710718,\n",
       "         0.87107117, 0.87107117, 0.76144883, 0.76144883, 0.98182924,\n",
       "         0.98182924, 0.41849486, 0.41849486, 0.21714855, 0.21714855,\n",
       "         0.011182  , 0.011182  , 0.09947719, 0.09947719, 0.12661392,\n",
       "         0.12661392, 0.85918047, 0.85918047, 0.48482876, 0.48482876,\n",
       "         0.06032984, 0.06032984, 0.58554635, 0.58554635, 0.98683172,\n",
       "         0.98683172, 0.39943534, 0.39943534, 0.27793446, 0.27793446])}}"
      ]
     },
     "execution_count": 11,
     "metadata": {},
     "output_type": "execute_result"
    }
   ],
   "source": [
    "ds = load_by_id(run_id_n)\n",
    "ds.get_parameter_data(\"x1\")"
   ]
  },
  {
   "cell_type": "markdown",
   "metadata": {},
   "source": [
    "And a dataset stored as binary arrays"
   ]
  },
  {
   "cell_type": "code",
   "execution_count": 12,
   "metadata": {
    "execution": {
     "iopub.execute_input": "2025-08-28T09:55:54.318173Z",
     "iopub.status.busy": "2025-08-28T09:55:54.318016Z",
     "iopub.status.idle": "2025-08-28T09:55:54.334136Z",
     "shell.execute_reply": "2025-08-28T09:55:54.333686Z"
    },
    "scrolled": true
   },
   "outputs": [
    {
     "data": {
      "text/plain": [
       "{'x1': {'x1': array([[0.29153802],\n",
       "         [0.29153802],\n",
       "         [0.90854755],\n",
       "         [0.90854755],\n",
       "         [0.09204523],\n",
       "         [0.09204523],\n",
       "         [0.09829101],\n",
       "         [0.09829101],\n",
       "         [0.98495072],\n",
       "         [0.98495072],\n",
       "         [0.40065801],\n",
       "         [0.40065801],\n",
       "         [0.47703635],\n",
       "         [0.47703635],\n",
       "         [0.2689171 ],\n",
       "         [0.2689171 ],\n",
       "         [0.61479486],\n",
       "         [0.61479486],\n",
       "         [0.28902968],\n",
       "         [0.28902968],\n",
       "         [0.79801815],\n",
       "         [0.79801815],\n",
       "         [0.05275462],\n",
       "         [0.05275462],\n",
       "         [0.27742657],\n",
       "         [0.27742657],\n",
       "         [0.58388337],\n",
       "         [0.58388337],\n",
       "         [0.39326596],\n",
       "         [0.39326596],\n",
       "         [0.52178131],\n",
       "         [0.52178131],\n",
       "         [0.79439659],\n",
       "         [0.79439659],\n",
       "         [0.56590522],\n",
       "         [0.56590522],\n",
       "         [0.47778921],\n",
       "         [0.47778921],\n",
       "         [0.26664206],\n",
       "         [0.26664206],\n",
       "         [0.97300571],\n",
       "         [0.97300571],\n",
       "         [0.50971676],\n",
       "         [0.50971676],\n",
       "         [0.76943448],\n",
       "         [0.76943448],\n",
       "         [0.26260133],\n",
       "         [0.26260133],\n",
       "         [0.45613443],\n",
       "         [0.45613443],\n",
       "         [0.95820765],\n",
       "         [0.95820765],\n",
       "         [0.81447904],\n",
       "         [0.81447904],\n",
       "         [0.01739973],\n",
       "         [0.01739973],\n",
       "         [0.84450009],\n",
       "         [0.84450009],\n",
       "         [0.56822682],\n",
       "         [0.56822682],\n",
       "         [0.32357851],\n",
       "         [0.32357851],\n",
       "         [0.88469591],\n",
       "         [0.88469591],\n",
       "         [0.01188134],\n",
       "         [0.01188134],\n",
       "         [0.01888335],\n",
       "         [0.01888335],\n",
       "         [0.94544028],\n",
       "         [0.94544028],\n",
       "         [0.61122804],\n",
       "         [0.61122804],\n",
       "         [0.25111336],\n",
       "         [0.25111336],\n",
       "         [0.03698838],\n",
       "         [0.03698838],\n",
       "         [0.04003504],\n",
       "         [0.04003504],\n",
       "         [0.91220806],\n",
       "         [0.91220806],\n",
       "         [0.33279215],\n",
       "         [0.33279215],\n",
       "         [0.94718489],\n",
       "         [0.94718489],\n",
       "         [0.0429011 ],\n",
       "         [0.0429011 ],\n",
       "         [0.37169718],\n",
       "         [0.37169718],\n",
       "         [0.83066092],\n",
       "         [0.83066092],\n",
       "         [0.84246217],\n",
       "         [0.84246217],\n",
       "         [0.31923427],\n",
       "         [0.31923427],\n",
       "         [0.74493378],\n",
       "         [0.74493378],\n",
       "         [0.64414596],\n",
       "         [0.64414596],\n",
       "         [0.75252449],\n",
       "         [0.75252449],\n",
       "         [0.95098835],\n",
       "         [0.95098835],\n",
       "         [0.90112392],\n",
       "         [0.90112392],\n",
       "         [0.69639723],\n",
       "         [0.69639723],\n",
       "         [0.17321435],\n",
       "         [0.17321435],\n",
       "         [0.42800027],\n",
       "         [0.42800027],\n",
       "         [0.26373683],\n",
       "         [0.26373683],\n",
       "         [0.22735739],\n",
       "         [0.22735739],\n",
       "         [0.44053625],\n",
       "         [0.44053625],\n",
       "         [0.29345691],\n",
       "         [0.29345691],\n",
       "         [0.70315536],\n",
       "         [0.70315536],\n",
       "         [0.97028697],\n",
       "         [0.97028697],\n",
       "         [0.60837414],\n",
       "         [0.60837414],\n",
       "         [0.31113034],\n",
       "         [0.31113034],\n",
       "         [0.51028528],\n",
       "         [0.51028528],\n",
       "         [0.62619771],\n",
       "         [0.62619771],\n",
       "         [0.54366509],\n",
       "         [0.54366509],\n",
       "         [0.51409507],\n",
       "         [0.51409507],\n",
       "         [0.17872666],\n",
       "         [0.17872666],\n",
       "         [0.32965334],\n",
       "         [0.32965334],\n",
       "         [0.16327366],\n",
       "         [0.16327366],\n",
       "         [0.54761139],\n",
       "         [0.54761139],\n",
       "         [0.38379859],\n",
       "         [0.38379859],\n",
       "         [0.98564168],\n",
       "         [0.98564168],\n",
       "         [0.27293496],\n",
       "         [0.27293496],\n",
       "         [0.26103817],\n",
       "         [0.26103817],\n",
       "         [0.50142536],\n",
       "         [0.50142536],\n",
       "         [0.9822978 ],\n",
       "         [0.9822978 ],\n",
       "         [0.4533661 ],\n",
       "         [0.4533661 ],\n",
       "         [0.58610976],\n",
       "         [0.58610976],\n",
       "         [0.92710816],\n",
       "         [0.92710816],\n",
       "         [0.2095574 ],\n",
       "         [0.2095574 ],\n",
       "         [0.08048807],\n",
       "         [0.08048807],\n",
       "         [0.19993173],\n",
       "         [0.19993173],\n",
       "         [0.22255412],\n",
       "         [0.22255412],\n",
       "         [0.55338523],\n",
       "         [0.55338523],\n",
       "         [0.5149026 ],\n",
       "         [0.5149026 ],\n",
       "         [0.40535185],\n",
       "         [0.40535185],\n",
       "         [0.05551624],\n",
       "         [0.05551624],\n",
       "         [0.67533101],\n",
       "         [0.67533101],\n",
       "         [0.32214277],\n",
       "         [0.32214277],\n",
       "         [0.97797844],\n",
       "         [0.97797844],\n",
       "         [0.58196275],\n",
       "         [0.58196275],\n",
       "         [0.90775956],\n",
       "         [0.90775956],\n",
       "         [0.48393817],\n",
       "         [0.48393817],\n",
       "         [0.0751444 ],\n",
       "         [0.0751444 ],\n",
       "         [0.37667532],\n",
       "         [0.37667532],\n",
       "         [0.91566682],\n",
       "         [0.91566682],\n",
       "         [0.79695808],\n",
       "         [0.79695808],\n",
       "         [0.70277894],\n",
       "         [0.70277894],\n",
       "         [0.2023687 ],\n",
       "         [0.2023687 ]])}}"
      ]
     },
     "execution_count": 12,
     "metadata": {},
     "output_type": "execute_result"
    }
   ],
   "source": [
    "ds = load_by_id(run_id_a)\n",
    "ds.get_parameter_data(\"x1\")"
   ]
  },
  {
   "cell_type": "code",
   "execution_count": null,
   "metadata": {},
   "outputs": [],
   "source": []
  }
 ],
 "metadata": {
  "kernelspec": {
   "display_name": ".venv",
   "language": "python",
   "name": "python3"
  },
  "language_info": {
   "codemirror_mode": {
    "name": "ipython",
    "version": 3
   },
   "file_extension": ".py",
   "mimetype": "text/x-python",
   "name": "python",
   "nbconvert_exporter": "python",
   "pygments_lexer": "ipython3",
   "version": "3.11.13"
  },
  "nbsphinx": {
   "timeout": 600
  },
  "toc": {
   "base_numbering": 1,
   "nav_menu": {},
   "number_sections": true,
   "sideBar": true,
   "skip_h1_title": false,
   "title_cell": "Table of Contents",
   "title_sidebar": "Contents",
   "toc_cell": false,
   "toc_position": {},
   "toc_section_display": true,
   "toc_window_display": false
  },
  "varInspector": {
   "cols": {
    "lenName": 16,
    "lenType": 16,
    "lenVar": 40
   },
   "kernels_config": {
    "python": {
     "delete_cmd_postfix": "",
     "delete_cmd_prefix": "del ",
     "library": "var_list.py",
     "varRefreshCmd": "print(var_dic_list())"
    },
    "r": {
     "delete_cmd_postfix": ") ",
     "delete_cmd_prefix": "rm(",
     "library": "var_list.r",
     "varRefreshCmd": "cat(var_dic_list()) "
    }
   },
   "types_to_exclude": [
    "module",
    "function",
    "builtin_function_or_method",
    "instance",
    "_Feature"
   ],
   "window_display": false
  }
 },
 "nbformat": 4,
 "nbformat_minor": 4
}
