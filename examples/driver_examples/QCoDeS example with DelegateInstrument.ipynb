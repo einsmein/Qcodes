{
 "cells": [
  {
   "cell_type": "markdown",
   "id": "plain-primary",
   "metadata": {},
   "source": [
    "# Qcodes example with DelegateInstrument driver\n",
    "\n",
    "This notebooks explains how to use the `DelegateInstrument` driver.\n",
    "\n",
    "## About\n",
    "The goal of the `DelegateInstrument` driver is to make it easier to combine different parameters together into a new \"virtual\" instrument. Each parameter on a `DelegateInstrument` can point to one or more parameters on other instruments in the station.\n",
    "\n",
    "## Usage\n",
    "The way it's used is mainly by specifying an entry in the station YAML. For instance, let's say you want to use a magnetic field coil. The driver has a method set_field(value, block), that by default is set to block=True, which means the field is ramped in a way that blocks further execution until the desired value is reached. However, let's say you are creating a measurement in which you want the parameter to be set, and while the value is ramping, you want to measure other parameters. This can be done by using `DelegateInstrument` and specifying a custom `setter` for the parameter that gets and sets the magnetic field.\n",
    "\n",
    "By default, each parameter is represented by a `DelegateParameter`. The `DelegateInstrument` also supports passing multiple source parameters to a given parameter. In order to do this, simply specify multiple parameters in the dictionary values  under the `parameters` key.\n",
    "\n",
    "It can also add instrument channels, specified under a separate key `channels`, shown in the second half of the notebook."
   ]
  },
  {
   "cell_type": "code",
   "execution_count": 1,
   "id": "sapphire-quebec",
   "metadata": {
    "execution": {
     "iopub.execute_input": "2025-08-28T09:54:14.876419Z",
     "iopub.status.busy": "2025-08-28T09:54:14.876199Z",
     "iopub.status.idle": "2025-08-28T09:54:14.884816Z",
     "shell.execute_reply": "2025-08-28T09:54:14.884168Z"
    }
   },
   "outputs": [
    {
     "name": "stdout",
     "output_type": "stream",
     "text": [
      "Writing delegate_instrument_example.yaml\n"
     ]
    }
   ],
   "source": [
    "%%writefile delegate_instrument_example.yaml\n",
    "\n",
    "instruments:\n",
    "  field_X:\n",
    "    type: qcodes.instrument_drivers.mock_instruments.MockField\n",
    "\n",
    "  field:\n",
    "    type: qcodes.instrument.delegate.DelegateInstrument\n",
    "    init:\n",
    "      parameters:\n",
    "        X:\n",
    "          - field_X.field\n",
    "        ramp_rate:\n",
    "          - field_X.ramp_rate\n",
    "        combined:\n",
    "          - field_X.field\n",
    "          - field_X.ramp_rate\n",
    "      set_initial_values_on_load: true\n",
    "      initial_values:\n",
    "        ramp_rate: 1.0\n",
    "      setters:\n",
    "        X:\n",
    "          method: field_X.set_field\n",
    "          block: false"
   ]
  },
  {
   "cell_type": "code",
   "execution_count": 2,
   "id": "younger-newspaper",
   "metadata": {
    "execution": {
     "iopub.execute_input": "2025-08-28T09:54:14.886884Z",
     "iopub.status.busy": "2025-08-28T09:54:14.886692Z",
     "iopub.status.idle": "2025-08-28T09:54:15.336083Z",
     "shell.execute_reply": "2025-08-28T09:54:15.335393Z"
    }
   },
   "outputs": [],
   "source": [
    "from pathlib import Path\n",
    "\n",
    "import qcodes as qc\n",
    "from qcodes.dataset import (\n",
    "    Measurement,\n",
    "    initialise_or_create_database_at,\n",
    "    load_or_create_experiment,\n",
    ")"
   ]
  },
  {
   "cell_type": "code",
   "execution_count": 3,
   "id": "muslim-briefs",
   "metadata": {
    "execution": {
     "iopub.execute_input": "2025-08-28T09:54:15.338159Z",
     "iopub.status.busy": "2025-08-28T09:54:15.337907Z",
     "iopub.status.idle": "2025-08-28T09:54:15.359351Z",
     "shell.execute_reply": "2025-08-28T09:54:15.358878Z"
    }
   },
   "outputs": [],
   "source": [
    "station = qc.Station(config_file=\"delegate_instrument_example.yaml\")"
   ]
  },
  {
   "cell_type": "code",
   "execution_count": 4,
   "id": "greatest-antenna",
   "metadata": {
    "execution": {
     "iopub.execute_input": "2025-08-28T09:54:15.360868Z",
     "iopub.status.busy": "2025-08-28T09:54:15.360694Z",
     "iopub.status.idle": "2025-08-28T09:54:15.379165Z",
     "shell.execute_reply": "2025-08-28T09:54:15.378708Z"
    }
   },
   "outputs": [],
   "source": [
    "field_X = station.load_field_X()\n",
    "field = station.load_field(station=station)"
   ]
  },
  {
   "cell_type": "code",
   "execution_count": 5,
   "id": "every-playing",
   "metadata": {
    "execution": {
     "iopub.execute_input": "2025-08-28T09:54:15.380643Z",
     "iopub.status.busy": "2025-08-28T09:54:15.380486Z",
     "iopub.status.idle": "2025-08-28T09:54:15.386083Z",
     "shell.execute_reply": "2025-08-28T09:54:15.385450Z"
    }
   },
   "outputs": [
    {
     "data": {
      "text/plain": [
       "0.0"
      ]
     },
     "execution_count": 5,
     "metadata": {},
     "output_type": "execute_result"
    }
   ],
   "source": [
    "field.X()"
   ]
  },
  {
   "cell_type": "code",
   "execution_count": 6,
   "id": "undefined-worst",
   "metadata": {
    "execution": {
     "iopub.execute_input": "2025-08-28T09:54:15.387729Z",
     "iopub.status.busy": "2025-08-28T09:54:15.387532Z",
     "iopub.status.idle": "2025-08-28T09:54:15.390203Z",
     "shell.execute_reply": "2025-08-28T09:54:15.389722Z"
    }
   },
   "outputs": [],
   "source": [
    "field.X(1.0)"
   ]
  },
  {
   "cell_type": "code",
   "execution_count": 7,
   "id": "recreational-suggestion",
   "metadata": {
    "execution": {
     "iopub.execute_input": "2025-08-28T09:54:15.391749Z",
     "iopub.status.busy": "2025-08-28T09:54:15.391557Z",
     "iopub.status.idle": "2025-08-28T09:54:15.394945Z",
     "shell.execute_reply": "2025-08-28T09:54:15.394466Z"
    }
   },
   "outputs": [
    {
     "data": {
      "text/plain": [
       "6.529887517293294e-05"
      ]
     },
     "execution_count": 7,
     "metadata": {},
     "output_type": "execute_result"
    }
   ],
   "source": [
    "field.X()"
   ]
  },
  {
   "cell_type": "code",
   "execution_count": 8,
   "id": "adopted-exchange",
   "metadata": {
    "execution": {
     "iopub.execute_input": "2025-08-28T09:54:15.396431Z",
     "iopub.status.busy": "2025-08-28T09:54:15.396248Z",
     "iopub.status.idle": "2025-08-28T09:54:15.399852Z",
     "shell.execute_reply": "2025-08-28T09:54:15.399232Z"
    }
   },
   "outputs": [
    {
     "data": {
      "text/plain": [
       "0.0001441041628519694"
      ]
     },
     "execution_count": 8,
     "metadata": {},
     "output_type": "execute_result"
    }
   ],
   "source": [
    "field.X()"
   ]
  },
  {
   "cell_type": "code",
   "execution_count": 9,
   "id": "bound-broadcasting",
   "metadata": {
    "execution": {
     "iopub.execute_input": "2025-08-28T09:54:15.401469Z",
     "iopub.status.busy": "2025-08-28T09:54:15.401314Z",
     "iopub.status.idle": "2025-08-28T09:54:15.404877Z",
     "shell.execute_reply": "2025-08-28T09:54:15.404399Z"
    }
   },
   "outputs": [
    {
     "data": {
      "text/plain": [
       "0.00022734800974527996"
      ]
     },
     "execution_count": 9,
     "metadata": {},
     "output_type": "execute_result"
    }
   ],
   "source": [
    "field.X()"
   ]
  },
  {
   "cell_type": "code",
   "execution_count": 10,
   "id": "casual-ghost",
   "metadata": {
    "execution": {
     "iopub.execute_input": "2025-08-28T09:54:15.406321Z",
     "iopub.status.busy": "2025-08-28T09:54:15.406172Z",
     "iopub.status.idle": "2025-08-28T09:54:15.409690Z",
     "shell.execute_reply": "2025-08-28T09:54:15.409098Z"
    }
   },
   "outputs": [
    {
     "data": {
      "text/plain": [
       "0.00030842622121175133"
      ]
     },
     "execution_count": 10,
     "metadata": {},
     "output_type": "execute_result"
    }
   ],
   "source": [
    "field.X()"
   ]
  },
  {
   "cell_type": "markdown",
   "id": "alike-process",
   "metadata": {},
   "source": [
    "As you can see, the field is now ramped in the background with the specified ramp rate. Now, let's try to create a measurement that uses this ability, and ramps the field in the background while measuring:"
   ]
  },
  {
   "cell_type": "code",
   "execution_count": 11,
   "id": "sustained-tiger",
   "metadata": {
    "execution": {
     "iopub.execute_input": "2025-08-28T09:54:15.411316Z",
     "iopub.status.busy": "2025-08-28T09:54:15.411163Z",
     "iopub.status.idle": "2025-08-28T09:54:15.415349Z",
     "shell.execute_reply": "2025-08-28T09:54:15.414877Z"
    }
   },
   "outputs": [],
   "source": [
    "field.ramp_rate(10.0)\n",
    "field_X.field(0.0)"
   ]
  },
  {
   "cell_type": "code",
   "execution_count": 12,
   "id": "pharmaceutical-partition",
   "metadata": {
    "execution": {
     "iopub.execute_input": "2025-08-28T09:54:15.416813Z",
     "iopub.status.busy": "2025-08-28T09:54:15.416633Z",
     "iopub.status.idle": "2025-08-28T09:54:15.420103Z",
     "shell.execute_reply": "2025-08-28T09:54:15.419526Z"
    }
   },
   "outputs": [
    {
     "data": {
      "text/plain": [
       "0.0"
      ]
     },
     "execution_count": 12,
     "metadata": {},
     "output_type": "execute_result"
    }
   ],
   "source": [
    "field.X()"
   ]
  },
  {
   "cell_type": "code",
   "execution_count": 13,
   "id": "happy-ordinance",
   "metadata": {
    "execution": {
     "iopub.execute_input": "2025-08-28T09:54:15.421577Z",
     "iopub.status.busy": "2025-08-28T09:54:15.421409Z",
     "iopub.status.idle": "2025-08-28T09:54:16.671235Z",
     "shell.execute_reply": "2025-08-28T09:54:16.670560Z"
    }
   },
   "outputs": [
    {
     "name": "stdout",
     "output_type": "stream",
     "text": [
      "Starting experimental run with id: 1. \n"
     ]
    }
   ],
   "source": [
    "import time\n",
    "\n",
    "initialise_or_create_database_at(\n",
    "    Path.cwd().parent / \"example_output\" / \"delegate_instrument_example.db\"\n",
    ")\n",
    "load_or_create_experiment(\"delegate_instrument_experiment\")\n",
    "\n",
    "meas = Measurement(station=station)\n",
    "meas.register_parameter(field.X)\n",
    "\n",
    "with meas.run() as datasaver:\n",
    "    for B in [0.1, 0.0]:\n",
    "        field.X(B)\n",
    "        while field.X() != B:\n",
    "            datasaver.add_result((field.X, field.X()))\n",
    "            time.sleep(0.01)\n",
    "    datasaver.flush_data_to_database()"
   ]
  },
  {
   "cell_type": "code",
   "execution_count": 14,
   "id": "short-medium",
   "metadata": {
    "execution": {
     "iopub.execute_input": "2025-08-28T09:54:16.673345Z",
     "iopub.status.busy": "2025-08-28T09:54:16.673177Z",
     "iopub.status.idle": "2025-08-28T09:54:17.451976Z",
     "shell.execute_reply": "2025-08-28T09:54:17.451328Z"
    }
   },
   "outputs": [
    {
     "data": {
      "text/plain": [
       "<Axes: >"
      ]
     },
     "execution_count": 14,
     "metadata": {},
     "output_type": "execute_result"
    },
    {
     "data": {
      "image/png": "[encoded data removed]",
      "text/plain": [
       "<Figure size 640x480 with 1 Axes>"
      ]
     },
     "metadata": {},
     "output_type": "display_data"
    }
   ],
   "source": [
    "datasaver.dataset.to_pandas_dataframe().plot()"
   ]
  },
  {
   "cell_type": "markdown",
   "id": "incomplete-vietnamese",
   "metadata": {},
   "source": [
    "When specifying multiple source parameters on a given parameter, the grouped parameter will automatically return a `namedtuple` that returns both values."
   ]
  },
  {
   "cell_type": "code",
   "execution_count": 15,
   "id": "dangerous-finder",
   "metadata": {
    "execution": {
     "iopub.execute_input": "2025-08-28T09:54:17.454202Z",
     "iopub.status.busy": "2025-08-28T09:54:17.453875Z",
     "iopub.status.idle": "2025-08-28T09:54:17.458191Z",
     "shell.execute_reply": "2025-08-28T09:54:17.457556Z"
    }
   },
   "outputs": [
    {
     "data": {
      "text/plain": [
       "combined(field=0.0, ramp_rate=10.0)"
      ]
     },
     "execution_count": 15,
     "metadata": {},
     "output_type": "execute_result"
    }
   ],
   "source": [
    "field.combined()"
   ]
  },
  {
   "cell_type": "markdown",
   "id": "consolidated-cooper",
   "metadata": {},
   "source": [
    "We can now also create a custom parameter that does a simple calculation based on the current parameters."
   ]
  },
  {
   "cell_type": "code",
   "execution_count": 16,
   "id": "designed-bloom",
   "metadata": {
    "execution": {
     "iopub.execute_input": "2025-08-28T09:54:17.460053Z",
     "iopub.status.busy": "2025-08-28T09:54:17.459896Z",
     "iopub.status.idle": "2025-08-28T09:54:17.463313Z",
     "shell.execute_reply": "2025-08-28T09:54:17.462643Z"
    }
   },
   "outputs": [],
   "source": [
    "import numpy as np\n",
    "\n",
    "\n",
    "def calculate_ramp_time(X, ramp_rate):\n",
    "    \"\"\"Calculate ramp time in seconds\"\"\"\n",
    "    dfield = np.abs(field.target_field - X)\n",
    "    return 60.0 * dfield / ramp_rate"
   ]
  },
  {
   "cell_type": "code",
   "execution_count": 17,
   "id": "disabled-logic",
   "metadata": {
    "execution": {
     "iopub.execute_input": "2025-08-28T09:54:17.465107Z",
     "iopub.status.busy": "2025-08-28T09:54:17.464885Z",
     "iopub.status.idle": "2025-08-28T09:54:17.468649Z",
     "shell.execute_reply": "2025-08-28T09:54:17.468046Z"
    },
    "scrolled": true
   },
   "outputs": [],
   "source": [
    "field._create_and_add_parameter(\n",
    "    group_name=\"ramp_time\",\n",
    "    station=station,\n",
    "    paths=[\"field_X.field\", \"field_X.ramp_rate\"],\n",
    "    formatter=calculate_ramp_time,\n",
    ")"
   ]
  },
  {
   "cell_type": "code",
   "execution_count": 18,
   "id": "adverse-february",
   "metadata": {
    "execution": {
     "iopub.execute_input": "2025-08-28T09:54:17.470320Z",
     "iopub.status.busy": "2025-08-28T09:54:17.470166Z",
     "iopub.status.idle": "2025-08-28T09:54:17.474465Z",
     "shell.execute_reply": "2025-08-28T09:54:17.473871Z"
    }
   },
   "outputs": [
    {
     "data": {
      "text/plain": [
       "np.float64(6.0)"
      ]
     },
     "execution_count": 18,
     "metadata": {},
     "output_type": "execute_result"
    }
   ],
   "source": [
    "field.ramp_rate(1.0)\n",
    "field.target_field = 0.1\n",
    "field.ramp_time()"
   ]
  },
  {
   "cell_type": "code",
   "execution_count": 19,
   "id": "statutory-xerox",
   "metadata": {
    "execution": {
     "iopub.execute_input": "2025-08-28T09:54:17.476136Z",
     "iopub.status.busy": "2025-08-28T09:54:17.475982Z",
     "iopub.status.idle": "2025-08-28T09:54:17.478768Z",
     "shell.execute_reply": "2025-08-28T09:54:17.478118Z"
    }
   },
   "outputs": [],
   "source": [
    "field.X(0.1)"
   ]
  },
  {
   "cell_type": "code",
   "execution_count": 20,
   "id": "varying-auditor",
   "metadata": {
    "execution": {
     "iopub.execute_input": "2025-08-28T09:54:17.480374Z",
     "iopub.status.busy": "2025-08-28T09:54:17.480221Z",
     "iopub.status.idle": "2025-08-28T09:54:17.484354Z",
     "shell.execute_reply": "2025-08-28T09:54:17.483729Z"
    }
   },
   "outputs": [
    {
     "data": {
      "text/plain": [
       "np.float64(5.995775222778321)"
      ]
     },
     "execution_count": 20,
     "metadata": {},
     "output_type": "execute_result"
    }
   ],
   "source": [
    "field.ramp_time()"
   ]
  },
  {
   "cell_type": "code",
   "execution_count": 21,
   "id": "chubby-nickel",
   "metadata": {
    "execution": {
     "iopub.execute_input": "2025-08-28T09:54:17.486003Z",
     "iopub.status.busy": "2025-08-28T09:54:17.485851Z",
     "iopub.status.idle": "2025-08-28T09:54:18.490457Z",
     "shell.execute_reply": "2025-08-28T09:54:18.489801Z"
    }
   },
   "outputs": [
    {
     "data": {
      "text/plain": [
       "np.float64(4.989806413650513)"
      ]
     },
     "execution_count": 21,
     "metadata": {},
     "output_type": "execute_result"
    }
   ],
   "source": [
    "import time\n",
    "\n",
    "time.sleep(1.0)\n",
    "field.ramp_time()"
   ]
  },
  {
   "cell_type": "code",
   "execution_count": 22,
   "id": "italian-liberty",
   "metadata": {
    "execution": {
     "iopub.execute_input": "2025-08-28T09:54:18.492216Z",
     "iopub.status.busy": "2025-08-28T09:54:18.492058Z",
     "iopub.status.idle": "2025-08-28T09:54:19.496926Z",
     "shell.execute_reply": "2025-08-28T09:54:19.496266Z"
    }
   },
   "outputs": [
    {
     "data": {
      "text/plain": [
       "np.float64(3.9834971427917485)"
      ]
     },
     "execution_count": 22,
     "metadata": {},
     "output_type": "execute_result"
    }
   ],
   "source": [
    "import time\n",
    "\n",
    "time.sleep(1.0)\n",
    "field.ramp_time()"
   ]
  },
  {
   "attachments": {},
   "cell_type": "markdown",
   "id": "c1145a2d",
   "metadata": {},
   "source": [
    "## Devices with channels"
   ]
  },
  {
   "cell_type": "markdown",
   "id": "182693f8",
   "metadata": {},
   "source": [
    "The YAML file below specifies the instruments with the channels/parameters we wish to group into a new instrument, here called \"device\". The first example simply adds the channel 'as is' using self.add_submodule, while the readout parameter is added as a DelegateParameter."
   ]
  },
  {
   "cell_type": "code",
   "execution_count": 23,
   "id": "a88d5103",
   "metadata": {
    "execution": {
     "iopub.execute_input": "2025-08-28T09:54:19.498962Z",
     "iopub.status.busy": "2025-08-28T09:54:19.498738Z",
     "iopub.status.idle": "2025-08-28T09:54:19.503296Z",
     "shell.execute_reply": "2025-08-28T09:54:19.502691Z"
    }
   },
   "outputs": [
    {
     "name": "stdout",
     "output_type": "stream",
     "text": [
      "Overwriting delegate_instrument_example.yaml\n"
     ]
    }
   ],
   "source": [
    "%%writefile delegate_instrument_example.yaml\n",
    "\n",
    "instruments:\n",
    "  lockin:\n",
    "    type: qcodes.instrument_drivers.mock_instruments.MockLockin\n",
    "\n",
    "  dac:\n",
    "    type: qcodes.instrument_drivers.mock_instruments.MockDAC\n",
    "\n",
    "  device:\n",
    "    type: qcodes.instrument.delegate.DelegateInstrument\n",
    "    init:\n",
    "      parameters:\n",
    "        readout: lockin.X\n",
    "      channels:\n",
    "        gate_1: dac.ch01\n",
    "      set_initial_values_on_load: true\n",
    "      initial_values:\n",
    "        readout: 1e-5\n",
    "        gate_1.voltage.post_delay: 0.01"
   ]
  },
  {
   "cell_type": "code",
   "execution_count": 24,
   "id": "91f2a8ab",
   "metadata": {
    "execution": {
     "iopub.execute_input": "2025-08-28T09:54:19.505049Z",
     "iopub.status.busy": "2025-08-28T09:54:19.504833Z",
     "iopub.status.idle": "2025-08-28T09:54:19.515109Z",
     "shell.execute_reply": "2025-08-28T09:54:19.514437Z"
    }
   },
   "outputs": [],
   "source": [
    "station = qc.Station(config_file=\"delegate_instrument_example.yaml\")"
   ]
  },
  {
   "cell_type": "code",
   "execution_count": 25,
   "id": "45b22762",
   "metadata": {
    "execution": {
     "iopub.execute_input": "2025-08-28T09:54:19.517062Z",
     "iopub.status.busy": "2025-08-28T09:54:19.516906Z",
     "iopub.status.idle": "2025-08-28T09:54:19.545396Z",
     "shell.execute_reply": "2025-08-28T09:54:19.544788Z"
    }
   },
   "outputs": [],
   "source": [
    "lockin = station.load_lockin()\n",
    "dac = station.load_dac()\n",
    "device = station.load_device(station=station)"
   ]
  },
  {
   "cell_type": "code",
   "execution_count": 26,
   "id": "9bfa54fb",
   "metadata": {
    "execution": {
     "iopub.execute_input": "2025-08-28T09:54:19.547368Z",
     "iopub.status.busy": "2025-08-28T09:54:19.547185Z",
     "iopub.status.idle": "2025-08-28T09:54:19.550559Z",
     "shell.execute_reply": "2025-08-28T09:54:19.549889Z"
    }
   },
   "outputs": [
    {
     "name": "stdout",
     "output_type": "stream",
     "text": [
      "<MockDACChannel: dac_ch01 of MockDAC: dac>\n",
      "0.01\n"
     ]
    }
   ],
   "source": [
    "print(device.gate_1)\n",
    "print(device.gate_1.voltage.post_delay)"
   ]
  },
  {
   "cell_type": "code",
   "execution_count": 27,
   "id": "91d57fe0",
   "metadata": {
    "execution": {
     "iopub.execute_input": "2025-08-28T09:54:19.552242Z",
     "iopub.status.busy": "2025-08-28T09:54:19.552087Z",
     "iopub.status.idle": "2025-08-28T09:54:19.566524Z",
     "shell.execute_reply": "2025-08-28T09:54:19.565898Z"
    }
   },
   "outputs": [
    {
     "name": "stdout",
     "output_type": "stream",
     "text": [
      "0.0\n"
     ]
    },
    {
     "data": {
      "text/plain": [
       "-0.6"
      ]
     },
     "execution_count": 27,
     "metadata": {},
     "output_type": "execute_result"
    }
   ],
   "source": [
    "print(device.gate_1.voltage())\n",
    "device.gate_1.voltage(-0.6)\n",
    "device.gate_1.voltage()"
   ]
  },
  {
   "cell_type": "markdown",
   "id": "37e1c2c3",
   "metadata": {},
   "source": [
    "The second example adds a channel using a custom channel class, which takes the initial channel and its name as input and has a parameter current_valid_ranges."
   ]
  },
  {
   "cell_type": "code",
   "execution_count": 28,
   "id": "7e4becd1",
   "metadata": {
    "execution": {
     "iopub.execute_input": "2025-08-28T09:54:19.568467Z",
     "iopub.status.busy": "2025-08-28T09:54:19.568312Z",
     "iopub.status.idle": "2025-08-28T09:54:19.572342Z",
     "shell.execute_reply": "2025-08-28T09:54:19.571691Z"
    }
   },
   "outputs": [
    {
     "name": "stdout",
     "output_type": "stream",
     "text": [
      "Overwriting delegate_instrument_example.yaml\n"
     ]
    }
   ],
   "source": [
    "%%writefile delegate_instrument_example.yaml\n",
    "\n",
    "instruments:\n",
    "  lockin:\n",
    "    type: qcodes.instrument_drivers.mock_instruments.MockLockin\n",
    "\n",
    "  dac:\n",
    "    type: qcodes.instrument_drivers.mock_instruments.MockDAC\n",
    "\n",
    "  device:\n",
    "    type: qcodes.instrument.delegate.DelegateInstrument\n",
    "    init:\n",
    "      parameters:\n",
    "        readout: lockin.X\n",
    "      channels:\n",
    "        type: qcodes.instrument_drivers.mock_instruments.MockCustomChannel\n",
    "        gate_1:\n",
    "          channel: dac.ch01\n",
    "          current_valid_range: [-0.5, 0]\n",
    "      set_initial_values_on_load: true\n",
    "      initial_values:\n",
    "        readout: 1e-5"
   ]
  },
  {
   "cell_type": "code",
   "execution_count": 29,
   "id": "2e3ca8d5",
   "metadata": {
    "execution": {
     "iopub.execute_input": "2025-08-28T09:54:19.574095Z",
     "iopub.status.busy": "2025-08-28T09:54:19.573922Z",
     "iopub.status.idle": "2025-08-28T09:54:19.576862Z",
     "shell.execute_reply": "2025-08-28T09:54:19.576227Z"
    }
   },
   "outputs": [],
   "source": [
    "lockin.close()\n",
    "dac.close()"
   ]
  },
  {
   "cell_type": "code",
   "execution_count": 30,
   "id": "2f2d2b2b",
   "metadata": {
    "execution": {
     "iopub.execute_input": "2025-08-28T09:54:19.578544Z",
     "iopub.status.busy": "2025-08-28T09:54:19.578356Z",
     "iopub.status.idle": "2025-08-28T09:54:19.607010Z",
     "shell.execute_reply": "2025-08-28T09:54:19.606372Z"
    }
   },
   "outputs": [],
   "source": [
    "station = qc.Station(config_file=\"delegate_instrument_example.yaml\")\n",
    "lockin = station.load_lockin()\n",
    "dac = station.load_dac()"
   ]
  },
  {
   "cell_type": "code",
   "execution_count": 31,
   "id": "9cb653b0",
   "metadata": {
    "execution": {
     "iopub.execute_input": "2025-08-28T09:54:19.608714Z",
     "iopub.status.busy": "2025-08-28T09:54:19.608525Z",
     "iopub.status.idle": "2025-08-28T09:54:19.618545Z",
     "shell.execute_reply": "2025-08-28T09:54:19.617972Z"
    }
   },
   "outputs": [],
   "source": [
    "device = station.load_device(station=station)"
   ]
  },
  {
   "cell_type": "code",
   "execution_count": 32,
   "id": "433d9646",
   "metadata": {
    "execution": {
     "iopub.execute_input": "2025-08-28T09:54:19.620351Z",
     "iopub.status.busy": "2025-08-28T09:54:19.620189Z",
     "iopub.status.idle": "2025-08-28T09:54:19.624235Z",
     "shell.execute_reply": "2025-08-28T09:54:19.623656Z"
    }
   },
   "outputs": [
    {
     "data": {
      "text/plain": [
       "<MockCustomChannel: dac_gate_1 of MockDAC: dac>"
      ]
     },
     "execution_count": 32,
     "metadata": {},
     "output_type": "execute_result"
    }
   ],
   "source": [
    "device.gate_1"
   ]
  },
  {
   "cell_type": "code",
   "execution_count": 33,
   "id": "3d2b8faa",
   "metadata": {
    "execution": {
     "iopub.execute_input": "2025-08-28T09:54:19.626059Z",
     "iopub.status.busy": "2025-08-28T09:54:19.625835Z",
     "iopub.status.idle": "2025-08-28T09:54:19.628962Z",
     "shell.execute_reply": "2025-08-28T09:54:19.628327Z"
    }
   },
   "outputs": [],
   "source": [
    "device.gate_1.voltage(-0.3)"
   ]
  },
  {
   "cell_type": "code",
   "execution_count": 34,
   "id": "49def342",
   "metadata": {
    "execution": {
     "iopub.execute_input": "2025-08-28T09:54:19.630709Z",
     "iopub.status.busy": "2025-08-28T09:54:19.630480Z",
     "iopub.status.idle": "2025-08-28T09:54:19.634766Z",
     "shell.execute_reply": "2025-08-28T09:54:19.634119Z"
    }
   },
   "outputs": [
    {
     "data": {
      "text/plain": [
       "-0.3"
      ]
     },
     "execution_count": 34,
     "metadata": {},
     "output_type": "execute_result"
    }
   ],
   "source": [
    "device.gate_1.voltage()"
   ]
  },
  {
   "cell_type": "markdown",
   "id": "7b122128",
   "metadata": {},
   "source": [
    "The MockCustomChannel has a parameter `current_valid_range`."
   ]
  },
  {
   "cell_type": "code",
   "execution_count": 35,
   "id": "d32a06fd",
   "metadata": {
    "execution": {
     "iopub.execute_input": "2025-08-28T09:54:19.636470Z",
     "iopub.status.busy": "2025-08-28T09:54:19.636313Z",
     "iopub.status.idle": "2025-08-28T09:54:19.640299Z",
     "shell.execute_reply": "2025-08-28T09:54:19.639687Z"
    }
   },
   "outputs": [
    {
     "data": {
      "text/plain": [
       "[-0.5, 0]"
      ]
     },
     "execution_count": 35,
     "metadata": {},
     "output_type": "execute_result"
    }
   ],
   "source": [
    "device.gate_1.current_valid_range()"
   ]
  }
 ],
 "metadata": {
  "kernelspec": {
   "display_name": ".venv",
   "language": "python",
   "name": "python3"
  },
  "language_info": {
   "codemirror_mode": {
    "name": "ipython",
    "version": 3
   },
   "file_extension": ".py",
   "mimetype": "text/x-python",
   "name": "python",
   "nbconvert_exporter": "python",
   "pygments_lexer": "ipython3",
   "version": "3.11.13"
  }
 },
 "nbformat": 4,
 "nbformat_minor": 5
}
