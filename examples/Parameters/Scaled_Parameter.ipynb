{
 "cells": [
  {
   "cell_type": "markdown",
   "metadata": {},
   "source": [
    "# ScaledParameter\n",
    "Sometimes the values that we set/get on the computer are not the physical value that reach/originate from the sample. The ScaledParameter can be used to convert quantities with a simple linear relationship without offset."
   ]
  },
  {
   "cell_type": "code",
   "execution_count": 1,
   "metadata": {
    "execution": {
     "iopub.execute_input": "2025-08-28T10:03:00.689766Z",
     "iopub.status.busy": "2025-08-28T10:03:00.689578Z",
     "iopub.status.idle": "2025-08-28T10:03:01.065102Z",
     "shell.execute_reply": "2025-08-28T10:03:01.064400Z"
    }
   },
   "outputs": [],
   "source": [
    "from qcodes.parameters import ManualParameter, ScaledParameter"
   ]
  },
  {
   "cell_type": "code",
   "execution_count": 2,
   "metadata": {
    "execution": {
     "iopub.execute_input": "2025-08-28T10:03:01.067217Z",
     "iopub.status.busy": "2025-08-28T10:03:01.066936Z",
     "iopub.status.idle": "2025-08-28T10:03:01.070280Z",
     "shell.execute_reply": "2025-08-28T10:03:01.069696Z"
    }
   },
   "outputs": [],
   "source": [
    "dac0 = ManualParameter(\"dac0\", unit=\"V\")\n",
    "dac1 = ManualParameter(\"dac1\", unit=\"V\")\n",
    "amplitude = ManualParameter(\"amplitude\", initial_value=3.14, unit=\"V\")"
   ]
  },
  {
   "cell_type": "markdown",
   "metadata": {},
   "source": [
    "## Resistive voltage divider\n",
    "The simplest case is a resistive divider, where the set voltage is divided by a fixed amount."
   ]
  },
  {
   "cell_type": "code",
   "execution_count": 3,
   "metadata": {
    "execution": {
     "iopub.execute_input": "2025-08-28T10:03:01.071986Z",
     "iopub.status.busy": "2025-08-28T10:03:01.071806Z",
     "iopub.status.idle": "2025-08-28T10:03:01.074728Z",
     "shell.execute_reply": "2025-08-28T10:03:01.074110Z"
    }
   },
   "outputs": [],
   "source": [
    "vd = ScaledParameter(dac0, division=10)"
   ]
  },
  {
   "cell_type": "code",
   "execution_count": 4,
   "metadata": {
    "execution": {
     "iopub.execute_input": "2025-08-28T10:03:01.076186Z",
     "iopub.status.busy": "2025-08-28T10:03:01.076017Z",
     "iopub.status.idle": "2025-08-28T10:03:01.078423Z",
     "shell.execute_reply": "2025-08-28T10:03:01.077961Z"
    }
   },
   "outputs": [],
   "source": [
    "vd(10)"
   ]
  },
  {
   "cell_type": "code",
   "execution_count": 5,
   "metadata": {
    "execution": {
     "iopub.execute_input": "2025-08-28T10:03:01.079923Z",
     "iopub.status.busy": "2025-08-28T10:03:01.079761Z",
     "iopub.status.idle": "2025-08-28T10:03:01.082858Z",
     "shell.execute_reply": "2025-08-28T10:03:01.082382Z"
    }
   },
   "outputs": [
    {
     "name": "stdout",
     "output_type": "stream",
     "text": [
      "Vd = 10.0 V , real setted value = 100 V\n"
     ]
    }
   ],
   "source": [
    "print(\"Vd =\", vd(), vd.unit, \", real setted value =\", dac0(), dac0.unit)"
   ]
  },
  {
   "cell_type": "markdown",
   "metadata": {},
   "source": [
    "## Voltage multiplier\n",
    "If the voltage is amplified, we can specify a `gain` value instead of `division`."
   ]
  },
  {
   "cell_type": "code",
   "execution_count": 6,
   "metadata": {
    "execution": {
     "iopub.execute_input": "2025-08-28T10:03:01.084379Z",
     "iopub.status.busy": "2025-08-28T10:03:01.084210Z",
     "iopub.status.idle": "2025-08-28T10:03:01.087120Z",
     "shell.execute_reply": "2025-08-28T10:03:01.086499Z"
    }
   },
   "outputs": [],
   "source": [
    "vb = ScaledParameter(dac1, gain=30, name=\"Vb\")"
   ]
  },
  {
   "cell_type": "code",
   "execution_count": 7,
   "metadata": {
    "execution": {
     "iopub.execute_input": "2025-08-28T10:03:01.088601Z",
     "iopub.status.busy": "2025-08-28T10:03:01.088437Z",
     "iopub.status.idle": "2025-08-28T10:03:01.091075Z",
     "shell.execute_reply": "2025-08-28T10:03:01.090491Z"
    }
   },
   "outputs": [],
   "source": [
    "vb(5)"
   ]
  },
  {
   "cell_type": "code",
   "execution_count": 8,
   "metadata": {
    "execution": {
     "iopub.execute_input": "2025-08-28T10:03:01.092506Z",
     "iopub.status.busy": "2025-08-28T10:03:01.092339Z",
     "iopub.status.idle": "2025-08-28T10:03:01.095632Z",
     "shell.execute_reply": "2025-08-28T10:03:01.095061Z"
    }
   },
   "outputs": [
    {
     "name": "stdout",
     "output_type": "stream",
     "text": [
      "Vb = 10.0 V , Original_value = 0.16666666666666666 V\n"
     ]
    }
   ],
   "source": [
    "print(\"Vb =\", vd(), vb.unit, \", Original_value =\", dac1(), dac1.unit)"
   ]
  },
  {
   "cell_type": "markdown",
   "metadata": {},
   "source": [
    "## Transimpedance amplifier\n",
    "The ScaledParameter can be used also for quantities that are read, like a current read by a transimpedance amplifier, digitized by a multimeter.\n",
    "We can also specify a different unit from the wrapped parameter. The semantic of gain/division is inverted compared to the previous cases, since it is a value that we read."
   ]
  },
  {
   "cell_type": "code",
   "execution_count": 9,
   "metadata": {
    "execution": {
     "iopub.execute_input": "2025-08-28T10:03:01.097228Z",
     "iopub.status.busy": "2025-08-28T10:03:01.097080Z",
     "iopub.status.idle": "2025-08-28T10:03:01.099602Z",
     "shell.execute_reply": "2025-08-28T10:03:01.099170Z"
    }
   },
   "outputs": [],
   "source": [
    "Id = ScaledParameter(amplitude, division=1e6, name=\"Id\", unit=\"A\")"
   ]
  },
  {
   "cell_type": "code",
   "execution_count": 10,
   "metadata": {
    "execution": {
     "iopub.execute_input": "2025-08-28T10:03:01.101107Z",
     "iopub.status.busy": "2025-08-28T10:03:01.100955Z",
     "iopub.status.idle": "2025-08-28T10:03:01.103781Z",
     "shell.execute_reply": "2025-08-28T10:03:01.103306Z"
    }
   },
   "outputs": [
    {
     "name": "stdout",
     "output_type": "stream",
     "text": [
      "Id = 3.14e-06 A , Read_value = 3.14 V\n"
     ]
    }
   ],
   "source": [
    "print(\"Id =\", Id(), Id.unit, \", Read_value =\", amplitude(), amplitude.unit)"
   ]
  },
  {
   "cell_type": "markdown",
   "metadata": {},
   "source": [
    "The gain can be manually changed at any time"
   ]
  },
  {
   "cell_type": "code",
   "execution_count": 11,
   "metadata": {
    "execution": {
     "iopub.execute_input": "2025-08-28T10:03:01.105217Z",
     "iopub.status.busy": "2025-08-28T10:03:01.105068Z",
     "iopub.status.idle": "2025-08-28T10:03:01.108422Z",
     "shell.execute_reply": "2025-08-28T10:03:01.107952Z"
    }
   },
   "outputs": [
    {
     "name": "stdout",
     "output_type": "stream",
     "text": [
      "Id = 3.14e-08 A , Read_value = 3.14 V\n"
     ]
    }
   ],
   "source": [
    "Id.division = 1e8\n",
    "print(\"Id =\", Id(), Id.unit, \", Read_value =\", amplitude(), amplitude.unit)"
   ]
  },
  {
   "cell_type": "markdown",
   "metadata": {},
   "source": [
    "The gain/division can be itself a Qcodes paramter, for example if is a gain set by a remote instrument"
   ]
  },
  {
   "cell_type": "code",
   "execution_count": 12,
   "metadata": {
    "execution": {
     "iopub.execute_input": "2025-08-28T10:03:01.109992Z",
     "iopub.status.busy": "2025-08-28T10:03:01.109840Z",
     "iopub.status.idle": "2025-08-28T10:03:01.112462Z",
     "shell.execute_reply": "2025-08-28T10:03:01.112003Z"
    }
   },
   "outputs": [],
   "source": [
    "remote_gain = ManualParameter(\"remote_gain\", initial_value=1e6, unit=\"V/A\")"
   ]
  },
  {
   "cell_type": "code",
   "execution_count": 13,
   "metadata": {
    "execution": {
     "iopub.execute_input": "2025-08-28T10:03:01.113882Z",
     "iopub.status.busy": "2025-08-28T10:03:01.113730Z",
     "iopub.status.idle": "2025-08-28T10:03:01.116917Z",
     "shell.execute_reply": "2025-08-28T10:03:01.116428Z"
    }
   },
   "outputs": [
    {
     "name": "stdout",
     "output_type": "stream",
     "text": [
      "Id = 3.14e-06 A , Read_value = 3.14 V\n"
     ]
    }
   ],
   "source": [
    "Id.division = remote_gain\n",
    "print(\"Id =\", Id(), Id.unit, \", Read_value =\", amplitude(), amplitude.unit)"
   ]
  },
  {
   "cell_type": "code",
   "execution_count": 14,
   "metadata": {
    "execution": {
     "iopub.execute_input": "2025-08-28T10:03:01.118272Z",
     "iopub.status.busy": "2025-08-28T10:03:01.118123Z",
     "iopub.status.idle": "2025-08-28T10:03:01.121351Z",
     "shell.execute_reply": "2025-08-28T10:03:01.120870Z"
    }
   },
   "outputs": [
    {
     "name": "stdout",
     "output_type": "stream",
     "text": [
      "Id = 3.14e-08 A , Read_value = 3.14 V\n"
     ]
    }
   ],
   "source": [
    "remote_gain(1e8)\n",
    "print(\"Id =\", Id(), Id.unit, \", Read_value =\", amplitude(), amplitude.unit)"
   ]
  }
 ],
 "metadata": {
  "kernelspec": {
   "display_name": "Python 3",
   "language": "python",
   "name": "python3"
  },
  "language_info": {
   "codemirror_mode": {
    "name": "ipython",
    "version": 3
   },
   "file_extension": ".py",
   "mimetype": "text/x-python",
   "name": "python",
   "nbconvert_exporter": "python",
   "pygments_lexer": "ipython3",
   "version": "3.11.13"
  },
  "toc": {
   "base_numbering": 1,
   "nav_menu": {},
   "number_sections": true,
   "sideBar": true,
   "skip_h1_title": false,
   "title_cell": "Table of Contents",
   "title_sidebar": "Contents",
   "toc_cell": false,
   "toc_position": {},
   "toc_section_display": true,
   "toc_window_display": false
  },
  "varInspector": {
   "cols": {
    "lenName": 16,
    "lenType": 16,
    "lenVar": 40
   },
   "kernels_config": {
    "python": {
     "delete_cmd_postfix": "",
     "delete_cmd_prefix": "del ",
     "library": "var_list.py",
     "varRefreshCmd": "print(var_dic_list())"
    },
    "r": {
     "delete_cmd_postfix": ") ",
     "delete_cmd_prefix": "rm(",
     "library": "var_list.r",
     "varRefreshCmd": "cat(var_dic_list()) "
    }
   },
   "types_to_exclude": [
    "module",
    "function",
    "builtin_function_or_method",
    "instance",
    "_Feature"
   ],
   "window_display": false
  }
 },
 "nbformat": 4,
 "nbformat_minor": 2
}
